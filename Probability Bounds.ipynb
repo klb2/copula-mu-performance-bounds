{
 "cells": [
  {
   "cell_type": "markdown",
   "metadata": {},
   "source": [
    "# Bounds on the Probability of Functions of RVs"
   ]
  },
  {
   "cell_type": "markdown",
   "metadata": {},
   "source": [
    "_Author:_ Karl-Ludwig Besser, Technische Universität Braunschweig, Germany\n",
    "\n",
    "This notebook is part of the paper \"Copula-Based Bounds for Multi-User Communications - Part II: Outage Performance\" (IEEE Communications Letters, vol. 25, no. 1, pp. 8-12, Jan. 2021, [doi:10.1109/LCOMM.2020.3023050](https://doi.org/10.1109/LCOMM.2020.3023050)).  \n",
    "If you use any of this work, please cite the above paper."
   ]
  },
  {
   "cell_type": "markdown",
   "metadata": {},
   "source": [
    "> If you are not familiar with Jupyter notebooks: The easiest way to use this notebook interactively, is to hit `Kernel --> Restart & Run All` in the menu. The will execute all cells and enable the interactive elements of the plots.  \n",
    "> Alternatively, you can execute the cells one by one using Shift+Return"
   ]
  },
  {
   "cell_type": "code",
   "execution_count": null,
   "metadata": {},
   "outputs": [],
   "source": [
    "import numpy as np\n",
    "from scipy import stats\n",
    "%matplotlib widget\n",
    "import matplotlib.pyplot as plt\n",
    "from ipywidgets import interact"
   ]
  },
  {
   "cell_type": "markdown",
   "metadata": {},
   "source": [
    "In the following, we show two simple examples for bounding the probability of the function of random variables.\n",
    "\n",
    "We assume that both $X$ and $Y$ are uniformly distributed, i.e., $X\\sim\\mathcal{U}[a_x, b_x]$ and $Y\\sim\\mathcal{U}[a_y, b_y]$.  \n",
    "First, we take a look at the sum $X+Y$. After this, we show the bounds for the product $XY$."
   ]
  },
  {
   "cell_type": "markdown",
   "metadata": {},
   "source": [
    "# Sum of Uniform Random Variables"
   ]
  },
  {
   "cell_type": "code",
   "execution_count": null,
   "metadata": {},
   "outputs": [],
   "source": [
    "def plot_sum_uniform():\n",
    "    x = np.linspace(0, 6, 100)\n",
    "    _s = np.linspace(0, 13, 100)\n",
    "    fig, ax = plt.subplots(3)\n",
    "    plots = {k: ax[0].plot(x, np.zeros(len(x)), label=k)[0] for k in [\"x\", \"y\", \"s-x\"]}\n",
    "    plot_g = {k: ax[1].plot(x, np.zeros(len(x)), label=k)[0] for k in [\"lower\", \"upper\"]}\n",
    "    plot_horizontal_cdf_s = {k: ax[1].plot(x, np.zeros(len(x)))[0] for k in [\"lower\", \"upper\"]}\n",
    "    plot_cdf_s = {k: ax[2].plot(_s, np.zeros(len(_s)))[0] for k in [\"lower\", \"upper\"]}\n",
    "    plot_vertical_s = ax[2].plot([1, 1], [0, 1])[0]\n",
    "    ax[0].set_ylim([-0.1, 1.1])\n",
    "    ax[1].set_ylim([-0.1, 1.1])\n",
    "    ax[2].set_ylim([-0.1, 1.1])\n",
    "    ax[0].legend()\n",
    "    ax[0].set_xlabel(\"x (or y)\")\n",
    "    ax[0].set_ylabel(\"$f_{X}(x)$\")\n",
    "    ax[1].set_xlabel(\"y\")\n",
    "    ax[1].set_ylabel(\"$g(y)$\")\n",
    "    ax[2].set_xlabel(\"s\")\n",
    "    ax[2].set_ylabel(\"$F_{X+Y}(s)$\")\n",
    "    fig.tight_layout()\n",
    "    def update_plot(a_x=0, b_x=1, a_y=0, b_y=1, s=2):\n",
    "        rv_x = stats.uniform(loc=a_x, scale=b_x-a_x)\n",
    "        rv_y = stats.uniform(loc=a_y, scale=b_y-a_y)\n",
    "        _s_min_lower = np.minimum(a_x+b_y, a_y+b_x)\n",
    "        _s_min_upper = a_x+a_y\n",
    "        _s_max_upper = np.maximum(a_x+b_y, a_y+b_x)\n",
    "        rv_s_lower = stats.uniform(loc=_s_min_lower, scale=b_x+b_y-_s_min_lower)\n",
    "        rv_s_upper = stats.uniform(loc=_s_min_upper, scale=_s_max_upper-_s_min_upper)\n",
    "        \n",
    "        plots['x'].set_ydata(rv_x.pdf(x))\n",
    "        plots['y'].set_ydata(rv_y.pdf(x))\n",
    "        plots['s-x'].set_ydata(rv_x.pdf(s-x))\n",
    "        plot_g[\"lower\"].set_ydata(np.maximum(rv_x.cdf(s-x)+rv_y.cdf(x)-1, 0))\n",
    "        plot_g[\"upper\"].set_ydata(np.minimum(rv_x.cdf(s-x)+rv_y.cdf(x), 1))\n",
    "        plot_horizontal_cdf_s[\"lower\"].set_ydata(rv_s_lower.cdf(s))\n",
    "        plot_horizontal_cdf_s[\"upper\"].set_ydata(rv_s_upper.cdf(s))\n",
    "        plot_cdf_s[\"lower\"].set_ydata(rv_s_lower.cdf(_s))\n",
    "        plot_cdf_s[\"upper\"].set_ydata(rv_s_upper.cdf(_s))\n",
    "        plot_vertical_s.set_xdata([s, s])\n",
    "    #interact(update_plot, a_x=(0, 5, .1), a_y=(0, 5, .1), s=(0, 12, .1))\n",
    "    interact(update_plot, a_x=(0, 5, .1), b_x=(0, 6, .1), a_y=(0, 5, .1), b_y=(0, 6, .1), s=(0, 12, .1))"
   ]
  },
  {
   "cell_type": "code",
   "execution_count": null,
   "metadata": {},
   "outputs": [],
   "source": [
    "plot_sum_uniform()"
   ]
  },
  {
   "cell_type": "markdown",
   "metadata": {},
   "source": [
    "## Optimal Joint Distribution"
   ]
  },
  {
   "cell_type": "code",
   "execution_count": null,
   "metadata": {},
   "outputs": [],
   "source": [
    "def copula_lower(a, b, a_x=1, b_x=3, a_y=2, b_y=5, s=1):\n",
    "    _s_min_lower = np.minimum(a_x+b_y, a_y+b_x)\n",
    "    rv_s_lower = stats.uniform(loc=_s_min_lower, scale=b_x+b_y-_s_min_lower)\n",
    "    t = rv_s_lower.cdf(s)\n",
    "    print(t)\n",
    "    c = np.minimum(a, b)\n",
    "    idx_t = np.where(np.logical_and(a >= t, b >= t))\n",
    "    c[idx_t] = np.maximum(a[idx_t] + b[idx_t] - 1, t)\n",
    "    return c\n",
    "\n",
    "def copula_upper(a, b, a_x=1, b_x=3, a_y=2, b_y=5, s=1):\n",
    "    _s_min_upper = a_x+a_y\n",
    "    _s_max_upper = np.maximum(a_x+b_y, a_y+b_x)\n",
    "    rv_s_upper = stats.uniform(loc=_s_min_upper, scale=_s_max_upper-_s_min_upper)\n",
    "    r = rv_s_upper.cdf(s)\n",
    "    c = np.minimum(a, b)\n",
    "    idx_r = np.where(np.logical_and(a <= r, b <= r))\n",
    "    c[idx_r] = np.maximum(a[idx_r] + b[idx_r] - r, 0)\n",
    "    return c"
   ]
  },
  {
   "cell_type": "code",
   "execution_count": null,
   "metadata": {},
   "outputs": [],
   "source": [
    "from matplotlib.gridspec import GridSpec\n",
    "\n",
    "def plot_joint_dist(copula, title):\n",
    "    xlim = [0, 4]\n",
    "    ylim = [0, 6]\n",
    "    fig = plt.figure(num=title)\n",
    "    gs = GridSpec(4,4)\n",
    "    ax_joint = fig.add_subplot(gs[1:4,0:3])\n",
    "    ax_marg_x = fig.add_subplot(gs[0,0:3])\n",
    "    ax_marg_y = fig.add_subplot(gs[1:4,3])\n",
    "    #ax_joint.set_xlabel(\"$\\\\tilde{X}$\")\n",
    "    ax_marg_x.xaxis.tick_top()\n",
    "    ax_marg_y.yaxis.tick_right()\n",
    "    x, stepx = np.linspace(*xlim, num=75, retstep=True)\n",
    "    y, stepy = np.linspace(*ylim, num=75, retstep=True)\n",
    "    X, Y = np.meshgrid(x, y)\n",
    "    def update_plot(a_x=1, b_x=3, a_y=2, b_y=5, s=1):\n",
    "        rv_x = stats.uniform(loc=a_x, scale=b_x-a_x)\n",
    "        rv_y = stats.uniform(loc=a_y, scale=b_y-a_y)\n",
    "        marg_cdf_x = rv_x.cdf(X)\n",
    "        marg_cdf_y = rv_y.cdf(Y)\n",
    "        joint_cdf = copula(marg_cdf_x, marg_cdf_y, a_x=a_x, b_x=b_x, a_y=a_y, b_y=b_y, s=s)\n",
    "        _gradx = np.gradient(joint_cdf, stepx, axis=0)\n",
    "        joint_pdf = np.gradient(_gradx, stepy, axis=1)\n",
    "        marg_x = rv_x.pdf(x)\n",
    "        marg_y = rv_y.pdf(y)\n",
    "        for _ax in [ax_joint, ax_marg_x, ax_marg_y]:\n",
    "            _ax.clear()\n",
    "        ax_marg_x.set_xlim(xlim)\n",
    "        ax_marg_x.set_ylim([0, 1])\n",
    "        ax_marg_y.set_xlim([0, 1])\n",
    "        ax_marg_y.set_ylim(ylim)\n",
    "        ax_joint.set_xlim(xlim)\n",
    "        ax_joint.set_ylim(ylim)\n",
    "        ax_joint.set_xlabel(\"$X$\")\n",
    "        ax_joint.set_ylabel(\"$Y$\")\n",
    "        ax_joint.pcolormesh(X, Y, joint_pdf, vmin=0, shading=\"auto\")#, vmax=1)\n",
    "        ax_joint.plot([0, s], [s, 0], 'r-')\n",
    "        ax_marg_x.plot(x, marg_x)\n",
    "        ax_marg_y.plot(marg_y, y)\n",
    "        #fig.canvas.draw_idle()\n",
    "    interact(update_plot, a_x=(0, 2, .1), b_x=(2.5, 4, .1), a_y=(0, 2, .1), b_y=(3, 6, .1), s=(0, 10, .1))\n",
    "    #plt.colorbar()"
   ]
  },
  {
   "cell_type": "code",
   "execution_count": null,
   "metadata": {},
   "outputs": [],
   "source": [
    "plot_joint_dist(copula_lower, title=\"Joint Distribution Lower Bound - Sum Uniform\")"
   ]
  },
  {
   "cell_type": "code",
   "execution_count": null,
   "metadata": {},
   "outputs": [],
   "source": [
    "plot_joint_dist(copula_upper, title=\"Joint Distribution Upper Bound - Sum Uniform\")"
   ]
  },
  {
   "cell_type": "markdown",
   "metadata": {},
   "source": [
    "# Product of Uniform Random Variables"
   ]
  },
  {
   "cell_type": "code",
   "execution_count": null,
   "metadata": {},
   "outputs": [],
   "source": [
    "def _g_product_uniform(y, s, rv_x, rv_y):\n",
    "    _part1 = np.minimum(rv_x.cdf(s/y)+rv_y.cdf(y), rv_y.cdf(s/y)+rv_x.cdf(y))\n",
    "    return np.minimum(_part1, 1)\n",
    "\n",
    "def upper_bound_product_uniform(s, a_x=0, b_x=1, a_y=0, b_y=1):\n",
    "    rv_x = stats.uniform(loc=a_x, scale=b_x-a_x)\n",
    "    rv_y = stats.uniform(loc=a_y, scale=b_y-a_y)\n",
    "    yopt = np.sqrt(s*(b_y-a_y)/(b_x-a_x))\n",
    "    return np.minimum(_g_product_uniform(yopt, s, rv_x, rv_y), np.minimum(rv_x.cdf(s/a_y), rv_y.cdf(s/a_x)))\n",
    "\n",
    "def plot_product_uniform():\n",
    "    x = np.linspace(0.01, 3, 100)\n",
    "    _s = np.linspace(0.01, 5, 100)\n",
    "    fig, ax = plt.subplots(3)\n",
    "    plots = {k: ax[0].plot(x, np.zeros(len(x)), label=k)[0] for k in [\"x\", \"y\", \"s/x\"]}\n",
    "    plot_g = {k: ax[1].plot(x, np.zeros(len(x)), label=k)[0] for k in [\"lower\", \"upper\"]}\n",
    "    plot_horizontal_cdf_s = {k: ax[1].plot(x, np.zeros(len(x)))[0] for k in [\"lower\", \"upper\"]}\n",
    "    plot_cdf_s = {k: ax[2].plot(_s, np.zeros(len(_s)))[0] for k in [\"lower\", \"upper\"]}\n",
    "    plot_vertical_s = ax[2].plot([1, 1], [0, 1])[0]\n",
    "    ax[0].set_ylim([-0.1, 1.1])\n",
    "    ax[1].set_ylim([-.1, 1.1])\n",
    "    ax[2].set_ylim([-0.1, 1.1])\n",
    "    ax[0].legend()\n",
    "    ax[0].set_xlabel(\"x (or y)\")\n",
    "    ax[0].set_ylabel(\"$f_{X}(x)$\")\n",
    "    ax[1].set_xlabel(\"y\")\n",
    "    ax[1].set_ylabel(\"$g(y)$\")\n",
    "    ax[2].set_xlabel(\"s\")\n",
    "    ax[2].set_ylabel(\"$F_{XY}(s)$\")\n",
    "    fig.tight_layout()\n",
    "    def update_plot(a_x=0, b_x=1, a_y=0, b_y=1, s=2):\n",
    "        rv_x = stats.uniform(loc=a_x, scale=b_x-a_x)\n",
    "        rv_y = stats.uniform(loc=a_y, scale=b_y-a_y)\n",
    "        _s_min_lower = np.minimum(a_x*b_y, a_y*b_x)\n",
    "        #_s_min_upper = a_x*a_y\n",
    "        rv_s_lower = stats.uniform(loc=_s_min_lower, scale=b_x*b_y-_s_min_lower)\n",
    "        yopt = np.sqrt(s*(b_y-a_y)/(b_x-a_x))\n",
    "        \n",
    "        plots['x'].set_ydata(rv_x.pdf(x))\n",
    "        plots['y'].set_ydata(rv_y.pdf(x))\n",
    "        plots['s/x'].set_ydata(rv_x.pdf(s/x))\n",
    "        plot_g[\"lower\"].set_ydata(np.maximum(rv_x.cdf(s/x)+rv_y.cdf(x)-1, 0))\n",
    "        plot_g[\"upper\"].set_ydata(np.minimum(rv_x.cdf(s/x)+rv_y.cdf(x), 1))\n",
    "        plot_horizontal_cdf_s[\"lower\"].set_ydata(np.maximum(rv_x.cdf(s/b_y), rv_y.cdf(s/b_x)))\n",
    "        plot_horizontal_cdf_s[\"upper\"].set_ydata(np.minimum(_g_product_uniform(yopt, s, rv_x, rv_y),\n",
    "                                                            np.minimum(rv_x.cdf(s/a_y), rv_y.cdf(s/a_x))))\n",
    "        plot_cdf_s[\"lower\"].set_ydata(rv_s_lower.cdf(_s))\n",
    "        plot_cdf_s[\"upper\"].set_ydata(upper_bound_product_uniform(_s, a_x, b_x, a_y, b_y))\n",
    "        plot_vertical_s.set_xdata([s, s])\n",
    "    #interact(update_plot, a_x=(0, 5, .1), a_y=(0, 5, .1), s=(0, 12, .1))\n",
    "    interact(update_plot, a_x=(0.01, 2, .1), b_x=(0.01, 2, .1), a_y=(0.01, 2, .1), b_y=(0.01, 2, .1),\n",
    "             s=(0.01, 11, .1))"
   ]
  },
  {
   "cell_type": "code",
   "execution_count": null,
   "metadata": {},
   "outputs": [],
   "source": [
    "plot_product_uniform()"
   ]
  }
 ],
 "metadata": {
  "kernelspec": {
   "display_name": "Python 3",
   "language": "python",
   "name": "python3"
  },
  "language_info": {
   "codemirror_mode": {
    "name": "ipython",
    "version": 3
   },
   "file_extension": ".py",
   "mimetype": "text/x-python",
   "name": "python",
   "nbconvert_exporter": "python",
   "pygments_lexer": "ipython3",
   "version": "3.9.1"
  }
 },
 "nbformat": 4,
 "nbformat_minor": 2
}
