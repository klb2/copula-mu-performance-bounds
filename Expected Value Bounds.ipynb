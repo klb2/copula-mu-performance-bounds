{
 "cells": [
  {
   "cell_type": "markdown",
   "metadata": {},
   "source": [
    "# Ergodic Performance Bounds in Fading Channels with Fixed Rayleigh Fading Marginals"
   ]
  },
  {
   "cell_type": "markdown",
   "metadata": {},
   "source": [
    "_Author:_ Karl-Ludwig Besser, Technische Universität Braunschweig\n",
    "\n",
    "This notebook is part of the paper \"Copula-Based Bounds for Multi-User Communications - Part I: Average Performance\" ([doi:10.1109/LCOMM.2020.3023056](https://doi.org/10.1109/LCOMM.2020.3023056)).  \n",
    "If you use any of this work, please cite the above paper."
   ]
  },
  {
   "cell_type": "markdown",
   "metadata": {},
   "source": [
    "> If you are not familiar with Jupyter notebooks: The easiest way to use this notebook interactively, is to hit `Kernel --> Restart & Run All` in the menu. The will execute all cells and enable the interactive elements of the plots.  \n",
    "> Alternatively, you can execute the cells one by one using Shift+Return"
   ]
  },
  {
   "cell_type": "code",
   "execution_count": 1,
   "metadata": {},
   "outputs": [],
   "source": [
    "import numpy as np\n",
    "from scipy import integrate\n",
    "from scipy.special import expi\n",
    "from scipy import stats\n",
    "%matplotlib widget\n",
    "import matplotlib.pyplot as plt\n",
    "from ipywidgets import interact"
   ]
  },
  {
   "cell_type": "markdown",
   "metadata": {},
   "source": [
    "# Scenario\n",
    "\n",
    "We consider a channel with fading and interference: Alice wants to transmit a message to Bob over a channel with gain $X$. At the same time, another user transmits which causes interference modeled by $Y$.\n",
    "\n",
    "In the following, we will consider the case of Rayleigh fading. The receive signals $X$ and $Y$ are therefore exponentially distributed, i.e., $X\\sim\\exp(\\lambda_{x})$, $Y\\sim\\exp(\\lambda_{y})$."
   ]
  },
  {
   "cell_type": "markdown",
   "metadata": {},
   "source": [
    "# SINR"
   ]
  },
  {
   "cell_type": "markdown",
   "metadata": {},
   "source": [
    "This gives the following expressions of the signal-to-interference-plus-noise ratio (SINR) and capacity:\n",
    "$$\\text{SINR} = \\frac{{X}}{s + {Y}}$$\n",
    "\n",
    "The signal-to-noise ratio (SNR) is given as $\\text{SNR}=1/s$."
   ]
  },
  {
   "cell_type": "code",
   "execution_count": 2,
   "metadata": {},
   "outputs": [
    {
     "name": "stdout",
     "output_type": "stream",
     "text": [
      "0.554686 <= E[X/(1+Y)] <= 0.870213\n",
      "Independent X, Y: E[X/(1+Y)] = 0.722657\n"
     ]
    }
   ],
   "source": [
    "from expectation_bounds import lower_sinr, upper_sinr, indep_sinr\n",
    "s = 1\n",
    "lam_x = 1\n",
    "lam_y = 2\n",
    "print(\"{:4f} <= E[X/(1+Y)] <= {:4f}\".format(lower_sinr(s, lam_x, lam_y), upper_sinr(s, lam_x, lam_y)))\n",
    "print(\"Independent X, Y: E[X/(1+Y)] = {:4f}\".format(indep_sinr(s, lam_x, lam_y)))"
   ]
  },
  {
   "cell_type": "markdown",
   "metadata": {},
   "source": [
    "# MAC Capacity"
   ]
  },
  {
   "cell_type": "markdown",
   "metadata": {},
   "source": [
    "The achievable rate for the first user in a MAC with successive interference cancellation is given by\n",
    "$$ R^{(1)}_{\\text{MAC}} = \\log_2\\left(1+\\frac{X}{s+Y}\\right) $$\n",
    "\n",
    "In the following, we show the bounds and the independent case for the expected capacity $\\mathbb{E}\\left[R^{(1)}_{\\text{MAC}}\\right]$ for Rayleigh fading.  \n",
    "\n",
    "The dashed lines indicate the limits for $\\mathsf{SNR}\\to\\infty$."
   ]
  },
  {
   "cell_type": "code",
   "execution_count": 3,
   "metadata": {},
   "outputs": [],
   "source": [
    "from expectation_bounds import lower_mac_rate, upper_mac_rate, indep_mac_rate\n",
    "from expectation_bounds import limit_indep_mac_rate, limit_lower_mac_rate\n",
    "\n",
    "def calc_mac_rate(snr_db, bound='min', lam_x=1, lam_y=1):\n",
    "    snr_lin = 10**(snr_db/10.)\n",
    "    if bound.startswith('ind'):\n",
    "        return indep_mac_rate(lam_x=lam_x, lam_y=lam_y, snr=snr_lin)\n",
    "    elif bound.startswith('min') or bound.startswith('low'):\n",
    "        return lower_mac_rate(lam_x=lam_x, lam_y=lam_y, snr=snr_lin)\n",
    "    elif bound.startswith('max') or bound.startswith('up'):\n",
    "        return upper_mac_rate(lam_x=lam_x, lam_y=lam_y, snr=snr_lin)\n",
    "    else:\n",
    "        return NotImplemented"
   ]
  },
  {
   "cell_type": "code",
   "execution_count": 4,
   "metadata": {},
   "outputs": [],
   "source": [
    "def mac_rate_plot():\n",
    "    fig, ax = plt.subplots(num=\"Ergodic MAC Rate\")\n",
    "    ax.set_xlabel(\"SNR [dB]\")\n",
    "    ax.set_ylabel(\"Ergodic MAC Rate\")\n",
    "    ax.set_ylim([0, 3])\n",
    "    plots = {}\n",
    "    snr_db = np.arange(-5, 26)\n",
    "    keys = ['min', 'max', 'ind']\n",
    "    for _key in keys:\n",
    "        plots[_key] = ax.plot(snr_db, np.zeros(len(snr_db)), 'o-', label=_key)[0]\n",
    "    limit_funcs = {\"limit_ind\": limit_indep_mac_rate, \"limit_min\": limit_lower_mac_rate}\n",
    "    limit_plots = {k: ax.plot([min(snr_db), max(snr_db)], [1, 1], '--', label=k)[0] for k in limit_funcs.keys()}\n",
    "    fig.legend()\n",
    "    \n",
    "    def update_plot(lam_x=1, lam_y=1):\n",
    "        for _key, _plot in plots.items():\n",
    "            _plot.set_ydata(calc_mac_rate(snr_db, _key, lam_x=lam_x, lam_y=lam_y))\n",
    "        for _key, _func in limit_funcs.items():\n",
    "            _limit = _func(lam_x, lam_y)\n",
    "            limit_plots[_key].set_ydata(_limit)\n",
    "    \n",
    "    interact(update_plot, lam_x=(.1, 3., .1), lam_y=(.25, 5., .25))"
   ]
  },
  {
   "cell_type": "code",
   "execution_count": 5,
   "metadata": {
    "scrolled": false
   },
   "outputs": [
    {
     "data": {
      "application/vnd.jupyter.widget-view+json": {
       "model_id": "4d49b9c64df74a78ac8eef06af09c24f",
       "version_major": 2,
       "version_minor": 0
      },
      "text/plain": [
       "Canvas(toolbar=Toolbar(toolitems=[('Home', 'Reset original view', 'home', 'home'), ('Back', 'Back to previous …"
      ]
     },
     "metadata": {},
     "output_type": "display_data"
    },
    {
     "data": {
      "application/vnd.jupyter.widget-view+json": {
       "model_id": "4a4839e81d6c4b5ebfa92c34f3a564be",
       "version_major": 2,
       "version_minor": 0
      },
      "text/plain": [
       "interactive(children=(FloatSlider(value=1.0, description='lam_x', max=3.0, min=0.1), FloatSlider(value=1.0, de…"
      ]
     },
     "metadata": {},
     "output_type": "display_data"
    }
   ],
   "source": [
    "mac_rate_plot()"
   ]
  },
  {
   "cell_type": "markdown",
   "metadata": {},
   "source": [
    "# Sum Rate"
   ]
  },
  {
   "cell_type": "markdown",
   "metadata": {},
   "source": [
    "The sum rate is given by\n",
    "$$ R_{\\text{Sum}} = \\log_2\\left(1 + \\rho_{x}X + \\rho_{y}Y\\right) $$\n",
    "where $\\rho_{x}$ und $\\rho_{y}$ are the SNRs for user 1 and 2, respectively.\n",
    "\n",
    "In the following, we show the bounds and the independent case for the expected sum rate $\\mathbb{E}\\left[R_{\\text{Sum}}\\right]$ for Rayleigh fading."
   ]
  },
  {
   "cell_type": "code",
   "execution_count": 6,
   "metadata": {},
   "outputs": [],
   "source": [
    "from expectation_bounds import lower_sum_rate, upper_sum_rate, indep_sum_rate\n",
    "\n",
    "def calc_sum_rate(snr_db, bound='min', lam_x=1, lam_y=1):\n",
    "    snr_lin = 10**(snr_db/10.)\n",
    "    #s = 1./snr_lin\n",
    "    if bound.startswith('ind'):\n",
    "        return indep_sum_rate(lam_x=lam_x, lam_y=lam_y, snr_x=snr_lin, snr_y=snr_lin)\n",
    "    elif bound.startswith('min') or bound.startswith('low'):\n",
    "        return lower_sum_rate(lam_x=lam_x, lam_y=lam_y, snr_x=snr_lin, snr_y=snr_lin)\n",
    "    elif bound.startswith('max') or bound.startswith('up'):\n",
    "        return upper_sum_rate(lam_x=lam_x, lam_y=lam_y, snr_x=snr_lin, snr_y=snr_lin)\n",
    "    else:\n",
    "        return NotImplemented"
   ]
  },
  {
   "cell_type": "code",
   "execution_count": 7,
   "metadata": {},
   "outputs": [],
   "source": [
    "def sum_rate_plot():\n",
    "    fig, ax = plt.subplots(num=\"Ergodic Sum Rate\")\n",
    "    ax.set_xlabel(\"SNR $\\\\rho_{x}=\\\\rho_{y}$ [dB]\")\n",
    "    ax.set_ylabel(\"Ergodic Sum Rate\")\n",
    "    ax.set_ylim([0, 6])\n",
    "    plots = {}\n",
    "    snr_db = np.arange(-5, 16)\n",
    "    keys = ['min', 'max', 'ind']\n",
    "    #keys = ['min']\n",
    "    for _key in keys:\n",
    "        plots[_key] = ax.plot(snr_db, np.zeros(len(snr_db)), 'o-', label=_key)[0]\n",
    "    fig.legend()\n",
    "    \n",
    "    def update_plot(lam_x=1, lam_y=1):\n",
    "        for _key, _plot in plots.items():\n",
    "            _plot.set_ydata(calc_sum_rate(snr_db, _key, lam_x=lam_x, lam_y=lam_y))\n",
    "        fig.canvas.draw_idle()\n",
    "    \n",
    "    interact(update_plot, lam_x=(.1, 3., .1), lam_y=(.1, 3., .1))"
   ]
  },
  {
   "cell_type": "code",
   "execution_count": 8,
   "metadata": {},
   "outputs": [
    {
     "data": {
      "application/vnd.jupyter.widget-view+json": {
       "model_id": "03d31ffebf314f0e816b938d9fefe96f",
       "version_major": 2,
       "version_minor": 0
      },
      "text/plain": [
       "Canvas(toolbar=Toolbar(toolitems=[('Home', 'Reset original view', 'home', 'home'), ('Back', 'Back to previous …"
      ]
     },
     "metadata": {},
     "output_type": "display_data"
    },
    {
     "data": {
      "application/vnd.jupyter.widget-view+json": {
       "model_id": "c47752d3d95647d09a67ded2ba312b8c",
       "version_major": 2,
       "version_minor": 0
      },
      "text/plain": [
       "interactive(children=(FloatSlider(value=1.0, description='lam_x', max=3.0, min=0.1), FloatSlider(value=1.0, de…"
      ]
     },
     "metadata": {},
     "output_type": "display_data"
    }
   ],
   "source": [
    "sum_rate_plot()"
   ]
  }
 ],
 "metadata": {
  "kernelspec": {
   "display_name": "Python 3",
   "language": "python",
   "name": "python3"
  },
  "language_info": {
   "codemirror_mode": {
    "name": "ipython",
    "version": 3
   },
   "file_extension": ".py",
   "mimetype": "text/x-python",
   "name": "python",
   "nbconvert_exporter": "python",
   "pygments_lexer": "ipython3",
   "version": "3.8.6"
  }
 },
 "nbformat": 4,
 "nbformat_minor": 2
}
