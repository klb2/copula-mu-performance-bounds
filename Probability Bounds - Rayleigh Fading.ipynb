{
 "cells": [
  {
   "cell_type": "markdown",
   "metadata": {},
   "source": [
    "# Bounds on the Joint Probability for Rayleigh Fading Scenarios"
   ]
  },
  {
   "cell_type": "markdown",
   "metadata": {},
   "source": [
    "_Author:_ Karl-Ludwig Besser, Technische Universität Braunschweig, Germany\n",
    "\n",
    "This notebook is part of the paper \"Copula-Based Bounds for Multi-User Communications - Part II: Outage Performance\" ([doi:10.1109/LCOMM.2020.3023050](https://doi.org/10.1109/LCOMM.2020.3023050)).  \n",
    "If you use any of this work, please cite the above paper."
   ]
  },
  {
   "cell_type": "markdown",
   "metadata": {},
   "source": [
    "> If you are not familiar with Jupyter notebooks: The easiest way to use this notebook interactively, is to hit `Kernel --> Restart & Run All` in the menu. The will execute all cells and enable the interactive elements of the plots.  \n",
    "> Alternatively, you can execute the cells one by one using Shift+Return"
   ]
  },
  {
   "cell_type": "code",
   "execution_count": 1,
   "metadata": {},
   "outputs": [],
   "source": [
    "import numpy as np\n",
    "from scipy import stats\n",
    "from scipy import optimize\n",
    "from scipy import special\n",
    "%matplotlib widget\n",
    "import matplotlib.pyplot as plt\n",
    "from ipywidgets import interact"
   ]
  },
  {
   "cell_type": "markdown",
   "metadata": {},
   "source": [
    "# Scenario\n",
    "\n",
    "We consider a channel with fading and interference: Alice wants to transmit a message to Bob over a channel with gain $X$. At the same time, another user transmits which causes interference modeled by $Y$.\n",
    "\n",
    "In the following, we will consider the case of Rayleigh fading. The receive signals $X$ and $Y$ are therefore exponentially distributed, i.e., $X\\sim\\exp(\\lambda_{x})$, $Y\\sim\\exp(\\lambda_{y})$."
   ]
  },
  {
   "cell_type": "markdown",
   "metadata": {},
   "source": [
    "# Product of Random Variables"
   ]
  },
  {
   "cell_type": "markdown",
   "metadata": {},
   "source": [
    "In the following, we show the bounds on the outage probability of a RIS-like channel, i.e.,\n",
    "$$ \\Pr\\left(\\log_2\\left(1+XY\\right)<R\\right). $$"
   ]
  },
  {
   "cell_type": "code",
   "execution_count": 2,
   "metadata": {},
   "outputs": [],
   "source": [
    "def cdf_exp(x, lam=1):\n",
    "    return 1-np.exp(-lam*x)"
   ]
  },
  {
   "cell_type": "markdown",
   "metadata": {},
   "source": [
    "## Lower Bound"
   ]
  },
  {
   "cell_type": "code",
   "execution_count": 3,
   "metadata": {},
   "outputs": [],
   "source": [
    "def g_lower(y, s, lam_x, lam_y):\n",
    "    idx_nonzero = np.where(y != 0)\n",
    "    results = np.zeros(np.shape(y))\n",
    "    results[idx_nonzero] = cdf_exp(s/y[idx_nonzero], lam=lam_x) + cdf_exp(y[idx_nonzero], lam=lam_y) - 1\n",
    "    return results\n",
    "    #return cdf_exp(s/y, lam=lam_x) + cdf_exp(y, lam=lam_y) - 1\n",
    "\n",
    "def deriv_g_lower(y, s, lam_x, lam_y):\n",
    "    return lam_y*np.exp(-lam_y*y) - lam_x*s/y**2*np.exp(-lam_x*s/y)"
   ]
  },
  {
   "cell_type": "code",
   "execution_count": 4,
   "metadata": {},
   "outputs": [],
   "source": [
    "def negative_g_lower_scalar(y, s, lam_x, lam_y):\n",
    "    if y == 0:\n",
    "        return 0\n",
    "    else:\n",
    "        return -(cdf_exp(s/y, lam=lam_x) + cdf_exp(y, lam=lam_y) - 1)\n",
    "\n",
    "def plot_g_lower():\n",
    "    fig, ax1 = plt.subplots()\n",
    "    ax2 = ax1.twinx()\n",
    "    y = np.linspace(0.001, 5)\n",
    "    ax2.plot([0, 5], [0, 0], color='gray', alpha=.2)\n",
    "    plots = {\"g\": ax1.plot(y, np.zeros(len(y)), 'b', label=\"g\")[0],\n",
    "             \"deriv_g\": ax2.plot(y, np.zeros(len(y)), 'r', label=\"g'\")[0],\n",
    "             \"gopt\": ax1.plot([0, 5], [0, 0], 'g', label=\"max(g)\")[0],\n",
    "             \"yopt\": ax1.plot([0, 0], [0, 1], 'g--', label=\"y_opt\")[0]\n",
    "            }\n",
    "    ax1.set_xlim([0, 5])\n",
    "    ax1.set_ylim([0, 1])\n",
    "    ax1.set_xlabel(\"y\")\n",
    "    ax1.set_ylabel(\"g(y)\")\n",
    "    ax2.set_ylim([-.5, .5])\n",
    "    ax2.set_ylabel(\"g'\")\n",
    "    fig.legend()\n",
    "    def update_plot(rate, lam_x, lam_y):\n",
    "        s = 2**rate - 1\n",
    "        maximum = optimize.minimize_scalar(negative_g_lower_scalar, args=(s, lam_x, lam_y))\n",
    "        print(maximum)\n",
    "        plots[\"g\"].set_ydata(g_lower(y, s, lam_x, lam_y))\n",
    "        plots[\"deriv_g\"].set_ydata(deriv_g_lower(y, s, lam_x, lam_y))\n",
    "        plots[\"gopt\"].set_ydata([-maximum.fun]*2)\n",
    "        plots[\"yopt\"].set_xdata([maximum.x]*2)\n",
    "    interact(update_plot, rate=(0.1, 2, .1), lam_x=(.1, 3, .1), lam_y=(.1, 3, .1))"
   ]
  },
  {
   "cell_type": "code",
   "execution_count": 5,
   "metadata": {},
   "outputs": [
    {
     "data": {
      "application/vnd.jupyter.widget-view+json": {
       "model_id": "fe02332e7b1d48af8c3e284812230fd3",
       "version_major": 2,
       "version_minor": 0
      },
      "text/plain": [
       "Canvas(toolbar=Toolbar(toolitems=[('Home', 'Reset original view', 'home', 'home'), ('Back', 'Back to previous …"
      ]
     },
     "metadata": {},
     "output_type": "display_data"
    },
    {
     "data": {
      "application/vnd.jupyter.widget-view+json": {
       "model_id": "b6eee263cbf64b3b9e5926493495e6e9",
       "version_major": 2,
       "version_minor": 0
      },
      "text/plain": [
       "interactive(children=(FloatSlider(value=1.0, description='rate', max=2.0, min=0.1), FloatSlider(value=1.500000…"
      ]
     },
     "metadata": {},
     "output_type": "display_data"
    }
   ],
   "source": [
    "plot_g_lower()"
   ]
  },
  {
   "cell_type": "markdown",
   "metadata": {},
   "source": [
    "## Upper Bound"
   ]
  },
  {
   "cell_type": "code",
   "execution_count": 6,
   "metadata": {},
   "outputs": [],
   "source": [
    "def g_upper(y, s, lam_x, lam_y):\n",
    "    idx_nonzero = np.where(y != 0)\n",
    "    results = np.zeros(np.shape(y))\n",
    "    results[idx_nonzero] = cdf_exp(s/y[idx_nonzero], lam=lam_x) + cdf_exp(y[idx_nonzero], lam=lam_y)\n",
    "    return np.minimum(results, 1)\n",
    "\n",
    "def g_upper_scalar(y, s, lam_x, lam_y):\n",
    "    if y == 0:\n",
    "        return 1\n",
    "    else:\n",
    "        return np.minimum(cdf_exp(s/y, lam=lam_x) + cdf_exp(y, lam=lam_y), 1)\n",
    "\n",
    "def plot_g_upper():\n",
    "    fig, ax1 = plt.subplots()\n",
    "    ax2 = ax1.twinx()\n",
    "    y = np.linspace(0.001, 5)\n",
    "    ax2.plot([0, 5], [0, 0], color='gray', alpha=.2)\n",
    "    plots = {\"g\": ax1.plot(y, np.zeros(len(y)), 'b', label=\"g\")[0],\n",
    "             \"deriv_g\": ax2.plot(y, np.zeros(len(y)), 'r', label=\"g'\")[0],\n",
    "             \"gopt\": ax1.plot([0, 5], [0, 0], 'g', label=\"min(g)\")[0],\n",
    "             \"yopt\": ax1.plot([0, 0], [0, 1], 'g--', label=\"y_opt\")[0]\n",
    "            }\n",
    "    ax1.set_xlim([0, 5])\n",
    "    ax1.set_ylim([0, 1.05])\n",
    "    ax1.set_xlabel(\"y\")\n",
    "    ax1.set_ylabel(\"g(y)\")\n",
    "    ax2.set_ylim([-.5, .5])\n",
    "    ax2.set_ylabel(\"g'\")\n",
    "    fig.legend()\n",
    "    def update_plot(rate, lam_x, lam_y):\n",
    "        s = 2**rate - 1\n",
    "        maximum = optimize.minimize_scalar(g_upper_scalar, args=(s, lam_x, lam_y))\n",
    "        print(maximum)\n",
    "        plots[\"g\"].set_ydata(g_upper(y, s, lam_x, lam_y))\n",
    "        plots[\"deriv_g\"].set_ydata(deriv_g_lower(y, s, lam_x, lam_y))\n",
    "        plots[\"gopt\"].set_ydata([maximum.fun]*2)\n",
    "        plots[\"yopt\"].set_xdata([maximum.x]*2)\n",
    "    interact(update_plot, rate=(0.1, 1, .1), lam_x=(.1, 1, .1), lam_y=(.1, 1, .1))"
   ]
  },
  {
   "cell_type": "code",
   "execution_count": 7,
   "metadata": {},
   "outputs": [
    {
     "data": {
      "application/vnd.jupyter.widget-view+json": {
       "model_id": "cf726f8458f347468c18bc476c8322ea",
       "version_major": 2,
       "version_minor": 0
      },
      "text/plain": [
       "Canvas(toolbar=Toolbar(toolitems=[('Home', 'Reset original view', 'home', 'home'), ('Back', 'Back to previous …"
      ]
     },
     "metadata": {},
     "output_type": "display_data"
    },
    {
     "data": {
      "application/vnd.jupyter.widget-view+json": {
       "model_id": "375ceafd379a4d20b6606291866194d1",
       "version_major": 2,
       "version_minor": 0
      },
      "text/plain": [
       "interactive(children=(FloatSlider(value=0.5, description='rate', max=1.0, min=0.1), FloatSlider(value=0.5, des…"
      ]
     },
     "metadata": {},
     "output_type": "display_data"
    }
   ],
   "source": [
    "plot_g_upper()"
   ]
  },
  {
   "cell_type": "markdown",
   "metadata": {},
   "source": [
    "## Summary"
   ]
  },
  {
   "cell_type": "code",
   "execution_count": 8,
   "metadata": {},
   "outputs": [],
   "source": [
    "@np.vectorize\n",
    "def lower_bound(s, lam_x, lam_y):\n",
    "    maximum = optimize.minimize_scalar(negative_g_lower_scalar, args=(s, lam_x, lam_y))\n",
    "    return -maximum.fun\n",
    "\n",
    "@np.vectorize\n",
    "def upper_bound(s, lam_x, lam_y):\n",
    "    minimum = optimize.minimize_scalar(g_upper_scalar, args=(s, lam_x, lam_y))\n",
    "    return minimum.fun\n",
    "\n",
    "def indep_channels(s, lam_x, lam_y):\n",
    "    _a = 2 * np.sqrt(lam_x*lam_y*s)\n",
    "    return 1 - _a * special.kn(1, _a)\n",
    "\n",
    "def plot_bounds_vs_rate():\n",
    "    fig, ax1 = plt.subplots(num=\"Outage Probability vs Rate\")\n",
    "    rate = np.logspace(-3, 1, 50)\n",
    "    s = 2**rate - 1\n",
    "    curves = {\"Lower Bound\": lower_bound, \"Upper Bound\": upper_bound, \"Independent Channels\": indep_channels}\n",
    "    plots = {k: ax1.loglog(rate, np.ones(len(rate)), label=k)[0] for k in curves.keys()}\n",
    "    ax1.set_xlim([1e-3, 1e1])\n",
    "    ax1.set_ylim([1e-5, 1.1])\n",
    "    ax1.set_xlabel(\"Rate $R$\")\n",
    "    ax1.set_ylabel(\"$\\\\varepsilon$\")\n",
    "    fig.legend()\n",
    "    def update_plot(lam_x, lam_y):\n",
    "        for _name, _func in curves.items():\n",
    "            plots[_name].set_ydata(_func(s, lam_x, lam_y))\n",
    "    interact(update_plot, lam_x=(.5, 3, .1), lam_y=(.5, 3, .1))"
   ]
  },
  {
   "cell_type": "code",
   "execution_count": 9,
   "metadata": {},
   "outputs": [
    {
     "data": {
      "application/vnd.jupyter.widget-view+json": {
       "model_id": "701296f8f3c94417b0e42b29640fc31c",
       "version_major": 2,
       "version_minor": 0
      },
      "text/plain": [
       "Canvas(toolbar=Toolbar(toolitems=[('Home', 'Reset original view', 'home', 'home'), ('Back', 'Back to previous …"
      ]
     },
     "metadata": {},
     "output_type": "display_data"
    },
    {
     "data": {
      "application/vnd.jupyter.widget-view+json": {
       "model_id": "5fca0a8e2afe4f168761bb4bfba91338",
       "version_major": 2,
       "version_minor": 0
      },
      "text/plain": [
       "interactive(children=(FloatSlider(value=1.7000000000000002, description='lam_x', max=3.0, min=0.5), FloatSlide…"
      ]
     },
     "metadata": {},
     "output_type": "display_data"
    }
   ],
   "source": [
    "plot_bounds_vs_rate()"
   ]
  },
  {
   "cell_type": "code",
   "execution_count": 10,
   "metadata": {},
   "outputs": [],
   "source": [
    "def export_results(lam_x=1, lam_y=1):\n",
    "    import pandas as pd\n",
    "    rate = np.logspace(-3, 1, 50)\n",
    "    s = 2**rate - 1\n",
    "    curves = {\"lower\": lower_bound, \"upper\": upper_bound, \"indep\": indep_channels}\n",
    "    results = {\"rate\": rate}\n",
    "    for _name, _func in curves.items():\n",
    "        results[_name] = _func(s, lam_x, lam_y)\n",
    "    filename = \"bounds-product-rayleigh-lx{}-ly{}.dat\".format(lam_x, lam_y)\n",
    "    data = pd.DataFrame.from_dict(results)\n",
    "    data.to_csv(filename, sep='\\t', index=False)\n",
    "\n",
    "export_results()"
   ]
  }
 ],
 "metadata": {
  "kernelspec": {
   "display_name": "Python 3",
   "language": "python",
   "name": "python3"
  },
  "language_info": {
   "codemirror_mode": {
    "name": "ipython",
    "version": 3
   },
   "file_extension": ".py",
   "mimetype": "text/x-python",
   "name": "python",
   "nbconvert_exporter": "python",
   "pygments_lexer": "ipython3",
   "version": "3.8.6"
  }
 },
 "nbformat": 4,
 "nbformat_minor": 2
}
