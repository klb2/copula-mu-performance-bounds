{
 "cells": [
  {
   "cell_type": "markdown",
   "metadata": {},
   "source": [
    "# Negatively Correlated Channels"
   ]
  },
  {
   "cell_type": "markdown",
   "metadata": {},
   "source": [
    "_Author:_ Karl-Ludwig Besser, Technische Universität Braunschweig, Germany\n",
    "\n",
    "This notebook is part of the paper \"Copula-Based Bounds for Multi-User Communications - Part I: Average Performance\" ([doi:10.1109/LCOMM.2020.3023056](https://doi.org/10.1109/LCOMM.2020.3023056)).  \n",
    "If you use any of this work, please cite the above paper."
   ]
  },
  {
   "cell_type": "markdown",
   "metadata": {},
   "source": [
    "> If you are not familiar with Jupyter notebooks: The easiest way to use this notebook interactively, is to hit `Kernel --> Restart & Run All` in the menu. The will execute all cells and enable the interactive elements of the plots.  \n",
    "> Alternatively, you can execute the cells one by one using Shift+Return"
   ]
  },
  {
   "cell_type": "code",
   "execution_count": 1,
   "metadata": {},
   "outputs": [],
   "source": [
    "import numpy as np\n",
    "from scipy import stats\n",
    "from scipy import optimize\n",
    "from scipy import special\n",
    "%matplotlib widget\n",
    "import matplotlib.pyplot as plt\n",
    "from ipywidgets import interact"
   ]
  },
  {
   "cell_type": "markdown",
   "metadata": {},
   "source": [
    "## Setup"
   ]
  },
  {
   "cell_type": "markdown",
   "metadata": {},
   "source": [
    "We have a transmitter (Tx) with a single antenna at height $h_{\\text{Tx}}$. Next, we have two receive antennas (Rx) which are placed on top of each other at heights $h_1$ and $h_2 = h_1 + \\Delta h$. The receivers are placed at a distance $d$ from the transmitted.\n",
    "\n",
    "Both receive a LOS signal after the delay $\\tau_{0,i}$.\n",
    "Due to a reflection of the ground, there also is a NLOS component, which is received at Rx $i$ after the delay $\\tau_{1,i}$. \n",
    "\n",
    "The signal at receiver $i$ is given as\n",
    "$$r_{i}(t) = A_1 \\cos\\left(\\omega(t-\\tau_{0,i})\\right) + A_{2}\\cos\\left(\\omega(t-\\tau_{1,i})\\right).$$\n",
    "The squared envelope is given as\n",
    "$$X_{i} = \\left(A_1 \\sin\\left(\\omega \\tau_{0,1}\\right) + A_2 \\sin\\left(\\omega \\tau_{1,i}\\right)\\right)^2 + \\left(A_1 \\cos\\left(\\omega \\tau_{0,1}\\right) + A_2 \\cos\\left(\\omega \\tau_{1,i}\\right)\\right)^2.$$"
   ]
  },
  {
   "cell_type": "code",
   "execution_count": 2,
   "metadata": {},
   "outputs": [],
   "source": [
    "def rec_signal(t, tau1, tau0=1., a1=1, a2=.5, omega=1):\n",
    "    return a1*np.cos(omega*(t-tau0)) + a2*np.cos(omega*(t-tau1))"
   ]
  },
  {
   "cell_type": "code",
   "execution_count": 3,
   "metadata": {},
   "outputs": [],
   "source": [
    "def squared_envelope(tau1, tau0=0, a1=1, a2=.5, omega=1):\n",
    "    _part1 = (a1*np.sin(omega*tau0) + a2*np.sin(omega*tau1))**2\n",
    "    _part2 = (a1*np.cos(omega*tau0) + a2*np.cos(omega*tau1))**2\n",
    "    return _part1 + _part2"
   ]
  },
  {
   "cell_type": "markdown",
   "metadata": {},
   "source": [
    "## Geometry"
   ]
  },
  {
   "cell_type": "markdown",
   "metadata": {},
   "source": [
    "The values of $\\tau_{0,i}$ and $\\tau_{1,i}$ are determined by the geometry, where we assume that it is proportional to the distance, i.e., assuming a constant propagation speed.\n",
    "\n",
    "The distances can easily be calculated using some basic trigonometry.\n",
    "Below, you can find a plot of the geometric layout."
   ]
  },
  {
   "cell_type": "code",
   "execution_count": 4,
   "metadata": {},
   "outputs": [],
   "source": [
    "def tau0(height, h_tx=10., dist=4, c=1):\n",
    "    return np.sqrt(dist**2 + (h_tx-height)**2)/c\n",
    "\n",
    "def tau1(height, h_tx=10., dist=4, c=1):\n",
    "    dist_tx_r = np.sqrt(h_tx**2 + (dist*h_tx/(h_tx+height))**2)\n",
    "    dist_r_rx = np.sqrt(height**2 + (dist*height/(h_tx+height))**2)\n",
    "    return (dist_r_rx + dist_tx_r)/c"
   ]
  },
  {
   "cell_type": "code",
   "execution_count": 5,
   "metadata": {},
   "outputs": [],
   "source": [
    "def single_receiver(distance=20):\n",
    "    h_tx = 10.\n",
    "    fig, ax1 = plt.subplots()\n",
    "    ax1.set_xlabel(\"Distance $d$\")\n",
    "    ax1.set_ylabel(\"Height $h$\")\n",
    "    ax1.hlines(0, 0, distance, lw=2)\n",
    "    ax1.plot([0], [h_tx], 'o--')\n",
    "    rx1 = ax1.plot([distance], [0], 'o', color='r', label=\"Rx1\")[0]\n",
    "    rx2 = ax1.plot([distance], [0], 'o', color='b', label=\"Rx2\")[0]\n",
    "    d01 = ax1.plot([0, distance], [h_tx, 0], '-', color='r')[0]\n",
    "    d02 = ax1.plot([0, distance], [h_tx, 0], '-', color='b')[0]\n",
    "    d11 = ax1.plot([0, distance/2, distance], [h_tx, 0, 0], '--', color='r')[0]\n",
    "    d12 = ax1.plot([0, distance/2, distance], [h_tx, 0, 0], '--', color='b')[0]\n",
    "    ax1.legend()\n",
    "    def update_plot(h_1=1, delta_h=1):\n",
    "        #ax1.clear()\n",
    "        h_2 = h_1 + delta_h\n",
    "        l_1 = distance*h_tx/(h_1+h_tx)\n",
    "        l_2 = distance*h_tx/(h_2+h_tx)\n",
    "        rx1.set_ydata(h_1)\n",
    "        d01.set_ydata([h_tx, h_1])\n",
    "        d02.set_ydata([h_tx, h_2])\n",
    "        d11.set_data([0, l_1, distance], [h_tx, 0, h_1])\n",
    "        d12.set_data([0, l_2, distance], [h_tx, 0, h_2])\n",
    "        rx2.set_ydata(h_2)\n",
    "        print(\"Rx1:\\td0 = {:.3f}\\td1 = {:.3f}\".format(tau0(h_1, h_tx=h_tx, dist=distance, c=1),\n",
    "                                                      tau1(h_1, h_tx=h_tx, dist=distance, c=1)))\n",
    "        print(\"Rx2:\\td0 = {:.3f}\\td1 = {:.3f}\".format(tau0(h_2, h_tx=h_tx, dist=distance, c=1),\n",
    "                                                      tau1(h_2, h_tx=h_tx, dist=distance, c=1)))\n",
    "    interact(update_plot, h_1=(1, 5, .2), delta_h=(1, 3, .1))"
   ]
  },
  {
   "cell_type": "code",
   "execution_count": 6,
   "metadata": {},
   "outputs": [
    {
     "data": {
      "application/vnd.jupyter.widget-view+json": {
       "model_id": "a49b34cf0eff4ecf83838c9ead221278",
       "version_major": 2,
       "version_minor": 0
      },
      "text/plain": [
       "Canvas(toolbar=Toolbar(toolitems=[('Home', 'Reset original view', 'home', 'home'), ('Back', 'Back to previous …"
      ]
     },
     "metadata": {},
     "output_type": "display_data"
    },
    {
     "data": {
      "application/vnd.jupyter.widget-view+json": {
       "model_id": "68bad822ff2c4838ab58e8028049fed5",
       "version_major": 2,
       "version_minor": 0
      },
      "text/plain": [
       "interactive(children=(FloatSlider(value=1.0, description='h_1', max=5.0, min=1.0, step=0.2), FloatSlider(value…"
      ]
     },
     "metadata": {},
     "output_type": "display_data"
    }
   ],
   "source": [
    "single_receiver()"
   ]
  },
  {
   "cell_type": "markdown",
   "metadata": {},
   "source": [
    "## Received Signal"
   ]
  },
  {
   "cell_type": "code",
   "execution_count": 7,
   "metadata": {},
   "outputs": [],
   "source": [
    "def plot_rec_signal(distance=20., h_tx=10.):\n",
    "    fig, ax1 = plt.subplots()\n",
    "    t = np.linspace(0, 15, 100)\n",
    "    plots_signal = {1: ax1.plot(t, np.zeros(len(t)), label=\"Receiver 1\")[0],\n",
    "                    2: ax1.plot(t, np.zeros(len(t)), label=\"Receiver 2\")[0],\n",
    "                   }\n",
    "    plots_envelope = {1: ax1.plot(t, np.zeros(len(t)), label=\"Envelope 1\")[0],\n",
    "                      2: ax1.plot(t, np.zeros(len(t)), label=\"Envelope 2\")[0],\n",
    "                     }\n",
    "    ax1.set_xlim([0, 15])\n",
    "    ax1.set_ylim([-2, 2])\n",
    "    ax1.set_xlabel(\"Time $t$\")\n",
    "    ax1.set_ylabel(\"Received Signal $x_{r}(t)$\")\n",
    "    plt.legend()\n",
    "    def update_plot(h_1=1, delta_h=1):\n",
    "        for rec, plot in plots_signal.items():\n",
    "            if rec == 1:\n",
    "                _h = h_1\n",
    "            else:\n",
    "                _h = h_1 + delta_h\n",
    "            t0 = tau0(_h, h_tx=h_tx, dist=distance)\n",
    "            t1 = tau1(_h, h_tx=h_tx, dist=distance)\n",
    "            plot.set_ydata(rec_signal(t, t1, t0))\n",
    "            plots_envelope[rec].set_ydata(np.sqrt(squared_envelope(t1, t0)))\n",
    "    interact(update_plot, h_1=(1, 5, .2), delta_h=(1, 5, .1))"
   ]
  },
  {
   "cell_type": "code",
   "execution_count": 8,
   "metadata": {},
   "outputs": [
    {
     "data": {
      "application/vnd.jupyter.widget-view+json": {
       "model_id": "ff7303ef0a7d4689ad94c34618d3f94f",
       "version_major": 2,
       "version_minor": 0
      },
      "text/plain": [
       "Canvas(toolbar=Toolbar(toolitems=[('Home', 'Reset original view', 'home', 'home'), ('Back', 'Back to previous …"
      ]
     },
     "metadata": {},
     "output_type": "display_data"
    },
    {
     "data": {
      "application/vnd.jupyter.widget-view+json": {
       "model_id": "8349f4db041f46468ed71a2c6130cdb9",
       "version_major": 2,
       "version_minor": 0
      },
      "text/plain": [
       "interactive(children=(FloatSlider(value=1.0, description='h_1', max=5.0, min=1.0, step=0.2), FloatSlider(value…"
      ]
     },
     "metadata": {},
     "output_type": "display_data"
    }
   ],
   "source": [
    "plot_rec_signal()"
   ]
  },
  {
   "cell_type": "markdown",
   "metadata": {},
   "source": [
    "## Receive Envelopes"
   ]
  },
  {
   "cell_type": "code",
   "execution_count": 9,
   "metadata": {},
   "outputs": [],
   "source": [
    "from probability_bounds import export_results\n",
    "\n",
    "def envelopes_over_distance(h_tx=10., export=False, f=1, c=1):\n",
    "    omega = 2*np.pi*f\n",
    "    fig, ax1 = plt.subplots()\n",
    "    ax1.set_xlabel(\"Distance $d$\")\n",
    "    ax1.set_ylabel(\"Squared Envelopes $X_i$\")\n",
    "    distances = np.linspace(20, 50, 1000)\n",
    "    #distances = np.linspace(300, 330, 5000)\n",
    "    results = {\"distance\": distances}\n",
    "    plot1 = ax1.plot(distances, np.zeros(len(distances)))[0]\n",
    "    plot2 = ax1.plot(distances, np.zeros(len(distances)))[0]\n",
    "    ax1.set_xlim([min(distances), max(distances)])\n",
    "    ax1.set_ylim([0, 3])\n",
    "    def update_plot(h_1=1, delta_h=1):\n",
    "        h_2 = h_1 + delta_h\n",
    "        tau0_1 = tau0(h_1, h_tx=h_tx, dist=distances, c=c)\n",
    "        tau1_1 = tau1(h_1, h_tx=h_tx, dist=distances, c=c)\n",
    "        tau0_2 = tau0(h_2, h_tx=h_tx, dist=distances, c=c)\n",
    "        tau1_2 = tau1(h_2, h_tx=h_tx, dist=distances, c=c)\n",
    "        e1 = squared_envelope(tau1_1, tau0_1, omega=omega)\n",
    "        e2 = squared_envelope(tau1_2, tau0_2, omega=omega)\n",
    "        print(np.corrcoef(e1, e2))\n",
    "        plot1.set_ydata(e1)\n",
    "        plot2.set_ydata(e2)\n",
    "        if export:\n",
    "            results[\"x1\"] = e1\n",
    "            results[\"x2\"] = e2\n",
    "            filename = \"rec_evelopes-f{:.2E}-htx{}-h1{}-dh{}.dat\".format(f, h_tx, h_1, delta_h)\n",
    "            export_results(results, filename)\n",
    "    interact(update_plot, h_1=(1, 10, .2), delta_h=(0, 5, .01))"
   ]
  },
  {
   "cell_type": "code",
   "execution_count": 10,
   "metadata": {},
   "outputs": [
    {
     "data": {
      "application/vnd.jupyter.widget-view+json": {
       "model_id": "cdc20c5cf1244994bd276e332c369327",
       "version_major": 2,
       "version_minor": 0
      },
      "text/plain": [
       "Canvas(toolbar=Toolbar(toolitems=[('Home', 'Reset original view', 'home', 'home'), ('Back', 'Back to previous …"
      ]
     },
     "metadata": {},
     "output_type": "display_data"
    },
    {
     "data": {
      "application/vnd.jupyter.widget-view+json": {
       "model_id": "172dd23e4baa4407b609a2180d3c8cb1",
       "version_major": 2,
       "version_minor": 0
      },
      "text/plain": [
       "interactive(children=(FloatSlider(value=1.0, description='h_1', max=10.0, min=1.0, step=0.2), FloatSlider(valu…"
      ]
     },
     "metadata": {},
     "output_type": "display_data"
    }
   ],
   "source": [
    "envelopes_over_distance(h_tx=10, f=2e9, c=3e8, export=False)"
   ]
  },
  {
   "cell_type": "markdown",
   "metadata": {},
   "source": [
    "# Simulation"
   ]
  },
  {
   "cell_type": "markdown",
   "metadata": {},
   "source": [
    "Next, we will run a short simulation where we place the transmitter in the center $(0, 0)$ at height $h_{\\text{Tx}}=10$. We then randomly place receivers in the box $[-20, 20]^2$. The height of the first receive antenna is $h_1=1$. The height of the second antenna $h_2=h_1+\\Delta h$ can be varied.  \n",
    "Different heights of the second antenna create different correlation coefficients."
   ]
  },
  {
   "cell_type": "code",
   "execution_count": 11,
   "metadata": {},
   "outputs": [],
   "source": [
    "def run_simulation(N=1000, height_tx=10., f=1, c=1):\n",
    "    omega = 2*np.pi*f\n",
    "    fig, axs = plt.subplots(2,1)\n",
    "    ax1, ax2 = axs\n",
    "    ax1.plot([0], [0], 'ro', label=\"Tx\")\n",
    "    pos = stats.uniform(-200, 400).rvs(size=(N, 2))\n",
    "    ax1.scatter(pos[:, 0], pos[:, 1], label=\"Rx\")\n",
    "    ax1.legend()\n",
    "    ax1.set_xlabel(\"Position in x-direction\")\n",
    "    ax1.set_ylabel(\"Position in y-direction\")\n",
    "    ax1.set_title(\"Receivers with random positions around the transmitter\")\n",
    "    #height_1 = 2*np.random.rand(N) + 1  # use this to also randomly select the height of the first antenna\n",
    "    distances = np.linalg.norm(pos, axis=1)\n",
    "    def update_plot(height_1=5, delta_h=.5):\n",
    "        tau0_1 = tau0(height_1, h_tx=height_tx, dist=distances, c=c)\n",
    "        tau1_1 = tau1(height_1, h_tx=height_tx, dist=distances, c=c)\n",
    "        e1 = squared_envelope(tau1_1, tau0_1, omega=omega)\n",
    "        height_2 = delta_h + height_1\n",
    "        tau0_2 = tau0(height_2, h_tx=height_tx, dist=distances, c=c)\n",
    "        tau1_2 = tau1(height_2, h_tx=height_tx, dist=distances, c=c)\n",
    "        e2 = squared_envelope(tau1_2, tau0_2, omega=omega)\n",
    "        print(np.corrcoef(e1, e2))\n",
    "        ax2.clear()\n",
    "        ax2.scatter(e1, e2)\n",
    "        ax2.set_xlabel(\"$X_1$\")\n",
    "        ax2.set_ylabel(\"$X_2$\")\n",
    "        ax2.set_title(\"Scatter Plot of Received Envelopes $X_1$ vs $X_2$\")\n",
    "        fig.tight_layout()\n",
    "    interact(update_plot, height_1=(1, 10, .1), delta_h=(0, 1, .01))"
   ]
  },
  {
   "cell_type": "code",
   "execution_count": 12,
   "metadata": {},
   "outputs": [
    {
     "data": {
      "application/vnd.jupyter.widget-view+json": {
       "model_id": "c42c4d7b73f34fc99af23f2c642f3776",
       "version_major": 2,
       "version_minor": 0
      },
      "text/plain": [
       "Canvas(toolbar=Toolbar(toolitems=[('Home', 'Reset original view', 'home', 'home'), ('Back', 'Back to previous …"
      ]
     },
     "metadata": {},
     "output_type": "display_data"
    },
    {
     "data": {
      "application/vnd.jupyter.widget-view+json": {
       "model_id": "0a32bd582d104cfba85a123701aba2fb",
       "version_major": 2,
       "version_minor": 0
      },
      "text/plain": [
       "interactive(children=(FloatSlider(value=5.0, description='height_1', max=10.0, min=1.0), FloatSlider(value=0.5…"
      ]
     },
     "metadata": {},
     "output_type": "display_data"
    }
   ],
   "source": [
    "run_simulation(f=2e9, c=3e8)"
   ]
  }
 ],
 "metadata": {
  "kernelspec": {
   "display_name": "Python 3",
   "language": "python",
   "name": "python3"
  },
  "language_info": {
   "codemirror_mode": {
    "name": "ipython",
    "version": 3
   },
   "file_extension": ".py",
   "mimetype": "text/x-python",
   "name": "python",
   "nbconvert_exporter": "python",
   "pygments_lexer": "ipython3",
   "version": "3.8.6"
  }
 },
 "nbformat": 4,
 "nbformat_minor": 2
}
