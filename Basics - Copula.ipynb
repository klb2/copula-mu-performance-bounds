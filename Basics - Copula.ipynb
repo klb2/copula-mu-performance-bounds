{
 "cells": [
  {
   "cell_type": "markdown",
   "metadata": {},
   "source": [
    "# Copulas"
   ]
  },
  {
   "cell_type": "markdown",
   "metadata": {},
   "source": [
    "_Author:_ Karl-Ludwig Besser, Technische Universität Braunschweig\n",
    "\n",
    "This notebook is part of the paper \"Copula-Based Bounds for Multi-User Communications - Part II: Outage Performance\" (IEEE Communications Letters, vol. 25, no. 1, pp. 8-12, Jan. 2021, [doi:10.1109/LCOMM.2020.3023050](https://doi.org/10.1109/LCOMM.2020.3023050)).  \n",
    "If you use any of this work, please cite the above paper."
   ]
  },
  {
   "cell_type": "markdown",
   "metadata": {},
   "source": [
    "> If you are not familiar with Jupyter notebooks: The easiest way to use this notebook interactively, is to hit `Kernel --> Restart & Run All` in the menu. The will execute all cells and enable the interactive elements of the plots.  \n",
    "> Alternatively, you can execute the cells one by one using Shift+Return"
   ]
  },
  {
   "cell_type": "markdown",
   "metadata": {},
   "source": [
    "## Basic Copulas"
   ]
  },
  {
   "cell_type": "markdown",
   "metadata": {},
   "source": [
    "The first important copulas that will be shown in the following are the Fréchet-Hoeffding bounds $W$ and $M$ and the product copula $\\Pi$. The latter corresponds to independent random variables.\n",
    "\n",
    "The lower and upper bound are given by\n",
    "$$W(a, b) = \\max(a+b-1, 0)$$\n",
    "and\n",
    "$$M(a, b) = \\min(a, b)$$\n",
    "respectively."
   ]
  },
  {
   "cell_type": "code",
   "execution_count": null,
   "metadata": {},
   "outputs": [],
   "source": [
    "%matplotlib widget\n",
    "import numpy as np\n",
    "from scipy import stats\n",
    "import matplotlib.pyplot as plt\n",
    "from mpl_toolkits.mplot3d import Axes3D\n",
    "import seaborn as sns\n",
    "from ipywidgets import interact\n",
    "from copulas import CopulaFrechetLower, CopulaFrechetUpper, CopulaProduct, CopulaGaussian"
   ]
  },
  {
   "cell_type": "code",
   "execution_count": null,
   "metadata": {},
   "outputs": [],
   "source": [
    "def plot_copulas_3d():\n",
    "    u = np.linspace(0, 1, 30)\n",
    "    U, V = np.meshgrid(u, u)\n",
    "    X = [U, V]\n",
    "    copulas = {\"P\": CopulaProduct().cdf(X),\n",
    "               \"M\": CopulaFrechetUpper().cdf(X),\n",
    "               \"W\": CopulaFrechetLower().cdf(X)}\n",
    "    fig, ax = plt.subplots(1,1, subplot_kw={\"projection\": \"3d\"})\n",
    "    plots = {}\n",
    "    for _name, _cop in copulas.items():\n",
    "        plots[_name] = ax.plot_surface(U, V, _cop, alpha=.75)\n",
    "    ax.set_xlabel(\"a\")\n",
    "    ax.set_ylabel(\"b\")\n",
    "    ax.set_zlabel(\"C(a, b)\")\n",
    "    def plot_visible(**kwargs):\n",
    "        for _name, _vis in kwargs.items():\n",
    "            plots[_name].set_visible(_vis)\n",
    "    interact(plot_visible, M=True, W=True, P=True)"
   ]
  },
  {
   "cell_type": "code",
   "execution_count": null,
   "metadata": {},
   "outputs": [],
   "source": [
    "plot_copulas_3d()"
   ]
  },
  {
   "cell_type": "code",
   "execution_count": null,
   "metadata": {},
   "outputs": [],
   "source": [
    "def plot_copulas_contour():\n",
    "    a = np.linspace(0, 1, 20)\n",
    "    A, B = np.meshgrid(a, a)\n",
    "    copulas = {\"M\": CopulaFrechetUpper().cdf([A, B]),\n",
    "               \"W\": CopulaFrechetLower().cdf([A, B]),\n",
    "               \"P\": CopulaProduct().cdf([A, B]),\n",
    "               #\"G\": CopulaGaussian(cov=-.3).cdf([A, B])\n",
    "              }\n",
    "    fig, ax = plt.subplots(1, len(copulas))\n",
    "    for idx, (_name, _cop) in enumerate(copulas.items()):\n",
    "        _ax = ax[idx]\n",
    "        _contour = _ax.contour(A, B, _cop)\n",
    "        _ax.clabel(_contour, inline=1, fontsize=9)\n",
    "        _ax.set_title(_name)\n",
    "        #_ax.set_xlabel(\"a\")\n",
    "        #_ax.set_ylabel(\"b\")\n",
    "    fig.tight_layout()"
   ]
  },
  {
   "cell_type": "code",
   "execution_count": null,
   "metadata": {},
   "outputs": [],
   "source": [
    "plot_copulas_contour()"
   ]
  },
  {
   "cell_type": "markdown",
   "metadata": {},
   "source": [
    "## Examples"
   ]
  },
  {
   "cell_type": "markdown",
   "metadata": {},
   "source": [
    "In the following, we will give some (numerical) examples of different copulas.\n",
    "\n",
    "First, we will show two random variables following the three fundamental copulas $M$, $W$, and $\\Pi$ that we illustrated above. The first rv ${X}$ is exponentially distributed. The second one ${Y}$ is standard-normal. However, you can simply change the distributions by changing the variables `dist_x` and `dist_y` in the following function. "
   ]
  },
  {
   "cell_type": "code",
   "execution_count": null,
   "metadata": {},
   "outputs": [],
   "source": [
    "def plot_example_distributions(N=1000):\n",
    "    dist_x = stats.expon\n",
    "    dist_y = stats.norm\n",
    "    u = {\"P\": CopulaProduct().rvs(N),\n",
    "         \"M\": CopulaFrechetUpper().rvs(N),\n",
    "         \"W\": CopulaFrechetLower().rvs(N),\n",
    "        }\n",
    "    jointgrid = sns.JointGrid()#(0, 0)#(*u[\"M\"].T)\n",
    "    def plot_visible(**kwargs):\n",
    "        jointgrid.ax_joint.clear()\n",
    "        jointgrid.ax_marg_x.clear()\n",
    "        jointgrid.ax_marg_y.clear()\n",
    "        jointgrid.ax_joint.set_xlabel(\"x\")\n",
    "        jointgrid.ax_joint.set_ylabel(\"y\")\n",
    "        for _name, _u in u.items():\n",
    "            if not kwargs[_name]:\n",
    "                continue\n",
    "            x = dist_x.ppf(_u[:, 0])\n",
    "            y = dist_y.ppf(_u[:, 1])\n",
    "            sns.kdeplot(x=x, ax=jointgrid.ax_marg_x, legend=False)\n",
    "            sns.kdeplot(y=y, ax=jointgrid.ax_marg_y, legend=False)\n",
    "            jointgrid.x = x\n",
    "            jointgrid.y = y\n",
    "            jointgrid.plot_joint(sns.scatterplot)\n",
    "    interact(plot_visible, M=True, W=True, P=True)"
   ]
  },
  {
   "cell_type": "code",
   "execution_count": null,
   "metadata": {},
   "outputs": [],
   "source": [
    "plot_example_distributions(10000)"
   ]
  },
  {
   "cell_type": "markdown",
   "metadata": {},
   "source": [
    "Next, we show the distribution when ${X}$ and ${Y}$ follow a Gaussian copula. The Gaussian copula is parametrized by the correlation parameter $\\rho$ which controls how dependent the variables are. It can be seen that the variables are comonotonic for $\\rho=1$ and countermonotonic for $\\rho=-1$."
   ]
  },
  {
   "cell_type": "code",
   "execution_count": null,
   "metadata": {},
   "outputs": [],
   "source": [
    "def plot_gaussian_copula(N=1000):\n",
    "    dist_x = stats.expon\n",
    "    dist_y = stats.norm\n",
    "    grid = sns.JointGrid()\n",
    "    def plot(cov=0):\n",
    "        u = CopulaGaussian().rvs(N, cov)\n",
    "        x = dist_x.ppf(u[:, 0])\n",
    "        y = dist_y.ppf(u[:, 1])\n",
    "        grid.ax_joint.clear()\n",
    "        grid.ax_marg_x.clear()\n",
    "        grid.ax_marg_y.clear()\n",
    "        grid.ax_joint.set_xlabel(\"x\")\n",
    "        grid.ax_joint.set_ylabel(\"y\")\n",
    "        grid.ax_joint.set_xlim([-1, 9])\n",
    "        grid.ax_joint.set_ylim([-4, 4])\n",
    "        grid.x = x\n",
    "        grid.y = y\n",
    "        grid.plot(sns.scatterplot, sns.histplot)\n",
    "    interact(plot, cov=(-1, 1, .05))"
   ]
  },
  {
   "cell_type": "code",
   "execution_count": null,
   "metadata": {},
   "outputs": [],
   "source": [
    "plot_gaussian_copula()"
   ]
  }
 ],
 "metadata": {
  "kernelspec": {
   "display_name": "Python 3",
   "language": "python",
   "name": "python3"
  },
  "language_info": {
   "codemirror_mode": {
    "name": "ipython",
    "version": 3
   },
   "file_extension": ".py",
   "mimetype": "text/x-python",
   "name": "python",
   "nbconvert_exporter": "python",
   "pygments_lexer": "ipython3",
   "version": "3.9.1"
  }
 },
 "nbformat": 4,
 "nbformat_minor": 2
}
